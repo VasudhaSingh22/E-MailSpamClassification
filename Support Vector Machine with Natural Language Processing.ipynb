{
 "cells": [
  {
   "cell_type": "markdown",
   "id": "be69a74f",
   "metadata": {},
   "source": [
    "# Support Vector Machine with Natural Language Processing:\n",
    "\n",
    "**Support Vector Machines (SVMs)** can be used in combination with Natural Language Processing (NLP) for email spam classification. SVMs are powerful machine learning algorithms commonly used for binary classification tasks, and they can work well with text data when combined with appropriate NLP techniques.\n",
    "\n",
    "**GridSearch**, a hyperparameter tuning technique, is used to systematically search for the best combination of hyperparameters for a machine learning model. It involves specifying a range of values for each hyperparameter and then exhaustively evaluating all possible combinations through cross-validation. This helps identify the hyperparameter configuration that yields the optimal model performance on a validation dataset."
   ]
  },
  {
   "cell_type": "markdown",
   "id": "42efb84f",
   "metadata": {},
   "source": [
    "### Importing Libraries & Dataset:"
   ]
  },
  {
   "cell_type": "code",
   "execution_count": 1,
   "id": "1e6c41eb",
   "metadata": {},
   "outputs": [
    {
     "data": {
      "text/html": [
       "<div>\n",
       "<style scoped>\n",
       "    .dataframe tbody tr th:only-of-type {\n",
       "        vertical-align: middle;\n",
       "    }\n",
       "\n",
       "    .dataframe tbody tr th {\n",
       "        vertical-align: top;\n",
       "    }\n",
       "\n",
       "    .dataframe thead th {\n",
       "        text-align: right;\n",
       "    }\n",
       "</style>\n",
       "<table border=\"1\" class=\"dataframe\">\n",
       "  <thead>\n",
       "    <tr style=\"text-align: right;\">\n",
       "      <th></th>\n",
       "      <th>Category</th>\n",
       "      <th>Message</th>\n",
       "    </tr>\n",
       "  </thead>\n",
       "  <tbody>\n",
       "    <tr>\n",
       "      <th>0</th>\n",
       "      <td>ham</td>\n",
       "      <td>Go until jurong point, crazy.. Available only ...</td>\n",
       "    </tr>\n",
       "    <tr>\n",
       "      <th>1</th>\n",
       "      <td>ham</td>\n",
       "      <td>Ok lar... Joking wif u oni...</td>\n",
       "    </tr>\n",
       "    <tr>\n",
       "      <th>2</th>\n",
       "      <td>spam</td>\n",
       "      <td>Free entry in 2 a wkly comp to win FA Cup fina...</td>\n",
       "    </tr>\n",
       "    <tr>\n",
       "      <th>3</th>\n",
       "      <td>ham</td>\n",
       "      <td>U dun say so early hor... U c already then say...</td>\n",
       "    </tr>\n",
       "    <tr>\n",
       "      <th>4</th>\n",
       "      <td>ham</td>\n",
       "      <td>Nah I don't think he goes to usf, he lives aro...</td>\n",
       "    </tr>\n",
       "  </tbody>\n",
       "</table>\n",
       "</div>"
      ],
      "text/plain": [
       "  Category                                            Message\n",
       "0      ham  Go until jurong point, crazy.. Available only ...\n",
       "1      ham                      Ok lar... Joking wif u oni...\n",
       "2     spam  Free entry in 2 a wkly comp to win FA Cup fina...\n",
       "3      ham  U dun say so early hor... U c already then say...\n",
       "4      ham  Nah I don't think he goes to usf, he lives aro..."
      ]
     },
     "execution_count": 1,
     "metadata": {},
     "output_type": "execute_result"
    }
   ],
   "source": [
    "import numpy as np\n",
    "import pandas as pd\n",
    "import matplotlib.pyplot as plt\n",
    "import seaborn as sns\n",
    "import string # Working with string operations\n",
    "import re # Regular expression operations\n",
    "import spacy # Natural language processing tasks\n",
    "import nltk # Natural language processing functionalities\n",
    "from spacy.lang.en.examples import sentences  # Import example sentences from English language model\n",
    "from nltk.corpus import stopwords  # Import stopwords from NLTK\n",
    "from sklearn.model_selection import train_test_split  # Import train-test split function\n",
    "from sklearn.feature_extraction.text import CountVectorizer, TfidfVectorizer  # Import text vectorization techniques\n",
    "from sklearn.svm import LinearSVC  # Import Linear Support Vector Classifier\n",
    "from sklearn.model_selection import GridSearchCV  # Import GridSearchCV for hyperparameter tuning\n",
    "from sklearn.metrics import f1_score, recall_score, accuracy_score, precision_score, confusion_matrix, classification_report  # Import various evaluation metrics\n",
    "from sklearn.svm import SVC  # Import Support Vector Classifier\n",
    "import warnings\n",
    "warnings.filterwarnings('ignore')\n",
    "%matplotlib inline\n",
    "\n",
    "df = pd.read_csv('spam.csv')\n",
    "df.head()"
   ]
  },
  {
   "cell_type": "markdown",
   "id": "da2e37c0",
   "metadata": {},
   "source": [
    "## Data Preprocessing:"
   ]
  },
  {
   "cell_type": "code",
   "execution_count": 2,
   "id": "5ed9d301",
   "metadata": {},
   "outputs": [
    {
     "data": {
      "text/plain": [
       "(5572, 2)"
      ]
     },
     "execution_count": 2,
     "metadata": {},
     "output_type": "execute_result"
    }
   ],
   "source": [
    "df.shape"
   ]
  },
  {
   "cell_type": "code",
   "execution_count": 3,
   "id": "e7f86209",
   "metadata": {},
   "outputs": [
    {
     "data": {
      "text/plain": [
       "415"
      ]
     },
     "execution_count": 3,
     "metadata": {},
     "output_type": "execute_result"
    }
   ],
   "source": [
    "# Check for Duplicates:\n",
    "df.duplicated().sum()"
   ]
  },
  {
   "cell_type": "code",
   "execution_count": 4,
   "id": "dd988820",
   "metadata": {},
   "outputs": [
    {
     "data": {
      "text/plain": [
       "(5157, 2)"
      ]
     },
     "execution_count": 4,
     "metadata": {},
     "output_type": "execute_result"
    }
   ],
   "source": [
    "# Remove the Duplicates:\n",
    "df.drop_duplicates(inplace = True)\n",
    "df.shape # Duplicates are dropped now."
   ]
  },
  {
   "cell_type": "code",
   "execution_count": 5,
   "id": "674a098d",
   "metadata": {},
   "outputs": [
    {
     "data": {
      "text/html": [
       "<div>\n",
       "<style scoped>\n",
       "    .dataframe tbody tr th:only-of-type {\n",
       "        vertical-align: middle;\n",
       "    }\n",
       "\n",
       "    .dataframe tbody tr th {\n",
       "        vertical-align: top;\n",
       "    }\n",
       "\n",
       "    .dataframe thead th {\n",
       "        text-align: right;\n",
       "    }\n",
       "</style>\n",
       "<table border=\"1\" class=\"dataframe\">\n",
       "  <thead>\n",
       "    <tr style=\"text-align: right;\">\n",
       "      <th></th>\n",
       "      <th>Category</th>\n",
       "      <th>Message</th>\n",
       "      <th>Words</th>\n",
       "    </tr>\n",
       "  </thead>\n",
       "  <tbody>\n",
       "    <tr>\n",
       "      <th>0</th>\n",
       "      <td>0</td>\n",
       "      <td>Go until jurong point, crazy.. Available only ...</td>\n",
       "      <td>go until jurong point crazy available only in ...</td>\n",
       "    </tr>\n",
       "    <tr>\n",
       "      <th>1</th>\n",
       "      <td>0</td>\n",
       "      <td>Ok lar... Joking wif u oni...</td>\n",
       "      <td>ok lar joking wif u oni</td>\n",
       "    </tr>\n",
       "    <tr>\n",
       "      <th>2</th>\n",
       "      <td>1</td>\n",
       "      <td>Free entry in 2 a wkly comp to win FA Cup fina...</td>\n",
       "      <td>free entry in 2 a wkly comp to win fa cup fina...</td>\n",
       "    </tr>\n",
       "    <tr>\n",
       "      <th>3</th>\n",
       "      <td>0</td>\n",
       "      <td>U dun say so early hor... U c already then say...</td>\n",
       "      <td>u dun say so early hor u c already then say</td>\n",
       "    </tr>\n",
       "    <tr>\n",
       "      <th>4</th>\n",
       "      <td>0</td>\n",
       "      <td>Nah I don't think he goes to usf, he lives aro...</td>\n",
       "      <td>nah i dont think he goes to usf he lives aroun...</td>\n",
       "    </tr>\n",
       "  </tbody>\n",
       "</table>\n",
       "</div>"
      ],
      "text/plain": [
       "   Category                                            Message  \\\n",
       "0         0  Go until jurong point, crazy.. Available only ...   \n",
       "1         0                      Ok lar... Joking wif u oni...   \n",
       "2         1  Free entry in 2 a wkly comp to win FA Cup fina...   \n",
       "3         0  U dun say so early hor... U c already then say...   \n",
       "4         0  Nah I don't think he goes to usf, he lives aro...   \n",
       "\n",
       "                                               Words  \n",
       "0  go until jurong point crazy available only in ...  \n",
       "1                            ok lar joking wif u oni  \n",
       "2  free entry in 2 a wkly comp to win fa cup fina...  \n",
       "3        u dun say so early hor u c already then say  \n",
       "4  nah i dont think he goes to usf he lives aroun...  "
      ]
     },
     "execution_count": 5,
     "metadata": {},
     "output_type": "execute_result"
    }
   ],
   "source": [
    "df['Category'] = df['Category'].apply(lambda x:1 if x == 'spam' else 0)\n",
    "\n",
    "# Column that only has words & space.\n",
    "words = []\n",
    "for i in df['Message']:\n",
    "    i = i.lower()\n",
    "    i = re.sub(\"[^a-z0-9 ]\", '', i)\n",
    "# Removing everything except space & a-z.\n",
    "    words.append(i)\n",
    "\n",
    "df['Words'] = words\n",
    "df.head()"
   ]
  },
  {
   "cell_type": "code",
   "execution_count": 6,
   "id": "b6debfd5",
   "metadata": {},
   "outputs": [],
   "source": [
    "# We load SpaCy's English statistical model to enable NLP tasks for \n",
    "# an English corpus.\n",
    "nlp = spacy.load('en_core_web_sm')\n",
    "stopWords = set(stopwords.words('english')) # Save stopwords as a set\n",
    "punctuations = string.punctuation # List of punctuation marks"
   ]
  },
  {
   "cell_type": "code",
   "execution_count": 7,
   "id": "6e12c71e",
   "metadata": {},
   "outputs": [
    {
     "data": {
      "text/html": [
       "<div>\n",
       "<style scoped>\n",
       "    .dataframe tbody tr th:only-of-type {\n",
       "        vertical-align: middle;\n",
       "    }\n",
       "\n",
       "    .dataframe tbody tr th {\n",
       "        vertical-align: top;\n",
       "    }\n",
       "\n",
       "    .dataframe thead th {\n",
       "        text-align: right;\n",
       "    }\n",
       "</style>\n",
       "<table border=\"1\" class=\"dataframe\">\n",
       "  <thead>\n",
       "    <tr style=\"text-align: right;\">\n",
       "      <th></th>\n",
       "      <th>Category</th>\n",
       "      <th>Message</th>\n",
       "      <th>Words</th>\n",
       "    </tr>\n",
       "  </thead>\n",
       "  <tbody>\n",
       "    <tr>\n",
       "      <th>0</th>\n",
       "      <td>0</td>\n",
       "      <td>Go until jurong point, crazy.. Available only ...</td>\n",
       "      <td>go jurong point crazy available bugis n great ...</td>\n",
       "    </tr>\n",
       "    <tr>\n",
       "      <th>1</th>\n",
       "      <td>0</td>\n",
       "      <td>Ok lar... Joking wif u oni...</td>\n",
       "      <td>ok lar joke wif u oni</td>\n",
       "    </tr>\n",
       "    <tr>\n",
       "      <th>2</th>\n",
       "      <td>1</td>\n",
       "      <td>Free entry in 2 a wkly comp to win FA Cup fina...</td>\n",
       "      <td>free entry 2 wkly comp win fa cup final tkts 2...</td>\n",
       "    </tr>\n",
       "    <tr>\n",
       "      <th>3</th>\n",
       "      <td>0</td>\n",
       "      <td>U dun say so early hor... U c already then say...</td>\n",
       "      <td>u dun say early hor u c already say</td>\n",
       "    </tr>\n",
       "    <tr>\n",
       "      <th>4</th>\n",
       "      <td>0</td>\n",
       "      <td>Nah I don't think he goes to usf, he lives aro...</td>\n",
       "      <td>nah I think go usf live around though</td>\n",
       "    </tr>\n",
       "  </tbody>\n",
       "</table>\n",
       "</div>"
      ],
      "text/plain": [
       "   Category                                            Message  \\\n",
       "0         0  Go until jurong point, crazy.. Available only ...   \n",
       "1         0                      Ok lar... Joking wif u oni...   \n",
       "2         1  Free entry in 2 a wkly comp to win FA Cup fina...   \n",
       "3         0  U dun say so early hor... U c already then say...   \n",
       "4         0  Nah I don't think he goes to usf, he lives aro...   \n",
       "\n",
       "                                               Words  \n",
       "0  go jurong point crazy available bugis n great ...  \n",
       "1                              ok lar joke wif u oni  \n",
       "2  free entry 2 wkly comp win fa cup final tkts 2...  \n",
       "3                u dun say early hor u c already say  \n",
       "4              nah I think go usf live around though  "
      ]
     },
     "execution_count": 7,
     "metadata": {},
     "output_type": "execute_result"
    }
   ],
   "source": [
    "def message_cleaner(sentence):\n",
    "    \"\"\"\n",
    "    Function message_cleaner cleans the text using typical Natural Language Processing\n",
    "    (NLP) steps. \n",
    "    Steps include: Lemmatization, removing stop words, removing punctuations  \n",
    "    Args:\n",
    "        sentence (str): The uncleaned text. \n",
    "    Returns:\n",
    "        str: The cleaned text.\n",
    "    \"\"\"\n",
    "    # Create the Doc object named `text` from `sentence` using `nlp()`\n",
    "    text = nlp(sentence)    \n",
    "    # Lemmatization - remove the lemmas -PRON-     \n",
    "    text = [token.lemma_ for token in text if token.lemma_ != \"-PRON-\"]\n",
    "    # Remove stop words\n",
    "    text = [token for token in text if token not in stopWords]\n",
    "    # Remove punctuations\n",
    "    text = [token for token in text if token not in punctuations]\n",
    "    # Use the .join() method on text to convert string\n",
    "    text = \" \".join(text)\n",
    "    # Use re.sub() to substitute multiple spaces or dots`[\\.\\s]+` to single space `' '`\n",
    "    text  = re.sub('[\\.\\s]+', ' ', text)\n",
    "    # Return the cleaned text\n",
    "    return text\n",
    "\n",
    "df['Words'] = df['Words'].apply(message_cleaner)\n",
    "df.head()"
   ]
  },
  {
   "cell_type": "markdown",
   "id": "97817ebe",
   "metadata": {},
   "source": [
    "### Model Building:"
   ]
  },
  {
   "cell_type": "code",
   "execution_count": 8,
   "id": "847d79e4",
   "metadata": {},
   "outputs": [],
   "source": [
    "X = df['Words']\n",
    "y = df['Category']\n",
    "X_train, X_test, y_train, y_test = train_test_split(X, y, test_size = 0.2, random_state = 1)"
   ]
  },
  {
   "cell_type": "markdown",
   "id": "f89eb599",
   "metadata": {},
   "source": [
    "## The Bag of Words Method:\n",
    "A bag of words is a representation of text that describes the occurrence of words within a document. We just keep track of word counts and disregard the grammatical details and the word order. \n",
    "- It is called a “bag” of words because any information about the order or structure of words in the document is discarded. \n",
    "- The model is only concerned with whether known words occur in the document, not where in the document."
   ]
  },
  {
   "cell_type": "code",
   "execution_count": 9,
   "id": "3a253b28",
   "metadata": {},
   "outputs": [],
   "source": [
    "cv = CountVectorizer()\n",
    "X_train_bow = cv.fit_transform(X_train)"
   ]
  },
  {
   "cell_type": "markdown",
   "id": "38018d2b",
   "metadata": {},
   "source": [
    "## The Term Frequency-Inverse Document Frequency Method:\n",
    "While the BoW method vectorizes words based on their frequency in the text, Term Frequency-Inverse Document Frequency (TF-IDF) vectorization takes into account a word's relevance. To determine the relevance of a word, TF-IDF, as the name suggests, takes two things into account:\n",
    "- How often a word appears in a single message relative to the number of words in the same message (term frequency, the TF in TF-IDF)\n",
    "- How many messages contain a given word in relation to the size of the corpus (inverse document frequency, the IDF in TF-IDF)"
   ]
  },
  {
   "cell_type": "code",
   "execution_count": 10,
   "id": "6493a8f9",
   "metadata": {},
   "outputs": [],
   "source": [
    "tf = TfidfVectorizer()\n",
    "X_train_tf = tf.fit_transform(X_train)"
   ]
  },
  {
   "cell_type": "markdown",
   "id": "5cedea41",
   "metadata": {},
   "source": [
    "## Combine Vectorizer With Support Vector Machine (SVM):"
   ]
  },
  {
   "cell_type": "code",
   "execution_count": 11,
   "id": "79d13d6e",
   "metadata": {},
   "outputs": [],
   "source": [
    "# Create a LinearSVC model with specified parameters\n",
    "model = LinearSVC(dual = False, random_state = 1)\n",
    "\n",
    "# Define a dictionary of hyperparameters to search over\n",
    "search = {\n",
    "    'C': [0.01, 0.1, 1, 10, 100],  # Different values of regularization parameter C\n",
    "    'class_weight': [None, 'balanced']  # Different class weight options\n",
    "}\n",
    "\n",
    "# Set up GridSearchCV for hyperparameter tuning:\n",
    "# - estimator: the model to be tuned (LinearSVC in this case)\n",
    "# - param_grid: the dictionary of hyperparameters to search over\n",
    "# - cv: number of cross-validation folds\n",
    "# - n_jobs: number of CPU cores to use (-1 indicates using all available cores)\n",
    "# - scoring: evaluation metric to optimize (f1 score in this case)\n",
    "grid = GridSearchCV(estimator=model,\n",
    "    param_grid=search,\n",
    "    cv=5,\n",
    "    n_jobs=-1,\n",
    "    scoring='f1')"
   ]
  },
  {
   "cell_type": "markdown",
   "id": "ed681ac9",
   "metadata": {},
   "source": [
    "### Case I: Applying SVC to the BoW Features:"
   ]
  },
  {
   "cell_type": "code",
   "execution_count": 12,
   "id": "541bad10",
   "metadata": {},
   "outputs": [
    {
     "name": "stdout",
     "output_type": "stream",
     "text": [
      "Best Score: 0.908726473699916\n",
      "Best C: 0.1\n",
      "Best Class Weights: balanced\n"
     ]
    }
   ],
   "source": [
    "# Fit the Model:\n",
    "grid.fit(X_train_bow, y_train)\n",
    "\n",
    "# Model Score & Best Parameters:\n",
    "print('Best Score:', grid.best_score_) \n",
    "print('Best C:', grid.best_estimator_.C)\n",
    "print('Best Class Weights:', grid.best_estimator_.class_weight)"
   ]
  },
  {
   "cell_type": "markdown",
   "id": "6ad37dc9",
   "metadata": {},
   "source": [
    "Cross-validation of GridSearchCV gave the best model F1 value of approximately 0.91 with C = 0.1 with balanced weights."
   ]
  },
  {
   "cell_type": "code",
   "execution_count": 13,
   "id": "4ec9149d",
   "metadata": {},
   "outputs": [
    {
     "name": "stdout",
     "output_type": "stream",
     "text": [
      "Precision: 0.956140350877193\n",
      "Recall: 0.8861788617886179\n",
      "F1-Score: 0.919831223628692\n",
      "Accuracy: 98.16 %\n"
     ]
    }
   ],
   "source": [
    "# Predict the test data:\n",
    "X_test_bow = cv.transform(X_test)\n",
    "y_pred_bow = grid.predict(X_test_bow)\n",
    "\n",
    "# Model Performance Evaluation:\n",
    "accuracy = accuracy_score(y_test, y_pred_bow)\n",
    "print('Precision:', precision_score(y_test, y_pred_bow))\n",
    "print('Recall:', recall_score(y_test, y_pred_bow))\n",
    "print('F1-Score:', f1_score(y_test, y_pred_bow))\n",
    "print(f\"Accuracy: {round((accuracy)*100, 2)} %\")"
   ]
  },
  {
   "cell_type": "code",
   "execution_count": 14,
   "id": "95904691",
   "metadata": {},
   "outputs": [
    {
     "name": "stdout",
     "output_type": "stream",
     "text": [
      "Classification Report (Bag of Words):\n",
      "\n",
      "              precision    recall  f1-score   support\n",
      "\n",
      "    Not Spam       0.98      0.99      0.99       909\n",
      "        Spam       0.96      0.89      0.92       123\n",
      "\n",
      "    accuracy                           0.98      1032\n",
      "   macro avg       0.97      0.94      0.95      1032\n",
      "weighted avg       0.98      0.98      0.98      1032\n",
      "\n"
     ]
    }
   ],
   "source": [
    "print('Classification Report (Bag of Words):\\n')\n",
    "print(classification_report(y_test, y_pred_bow, target_names=[\"Not Spam\", \"Spam\"]))"
   ]
  },
  {
   "cell_type": "code",
   "execution_count": 15,
   "id": "d5b9c792",
   "metadata": {},
   "outputs": [
    {
     "data": {
      "image/png": "[encoded data removed]",
      "text/plain": [
       "<Figure size 800x600 with 2 Axes>"
      ]
     },
     "metadata": {},
     "output_type": "display_data"
    }
   ],
   "source": [
    "# Generate confusion matrix\n",
    "conf_matrix = confusion_matrix(y_test, y_pred_bow)\n",
    "# Plot confusion matrix\n",
    "plt.figure(figsize=(8, 6))\n",
    "sns.heatmap(conf_matrix, annot=True, fmt=\"d\", cmap=\"Blues\", xticklabels=['Not Spam', 'Spam'], yticklabels=['Not Spam', 'Spam'])\n",
    "plt.xlabel('Predicted Labels')\n",
    "plt.ylabel('True Labels')\n",
    "plt.title('Confusion Matrix (Bag of Words)')\n",
    "plt.show()"
   ]
  },
  {
   "cell_type": "markdown",
   "id": "17021b5e",
   "metadata": {},
   "source": [
    "### Case II: Applying SVC to the TF-IDF Features:"
   ]
  },
  {
   "cell_type": "code",
   "execution_count": 16,
   "id": "1c9494e8",
   "metadata": {},
   "outputs": [
    {
     "name": "stdout",
     "output_type": "stream",
     "text": [
      "Best Score: 0.8895045236969411\n",
      "Best C: 1\n",
      "Best Class Weights: balanced\n"
     ]
    }
   ],
   "source": [
    "# Fit the Model:\n",
    "grid.fit(X_train_tf, y_train)\n",
    "\n",
    "# Model Score & Best Parameters:\n",
    "print('Best Score:', grid.best_score_) \n",
    "print('Best C:', grid.best_estimator_.C)\n",
    "print('Best Class Weights:', grid.best_estimator_.class_weight)"
   ]
  },
  {
   "cell_type": "markdown",
   "id": "6e6239fd",
   "metadata": {},
   "source": [
    "Cross-validation of GridSearchCV gave the best model F1 value of approximately 0.89 with C = 1 with balanced weights."
   ]
  },
  {
   "cell_type": "code",
   "execution_count": 17,
   "id": "f29a6186",
   "metadata": {},
   "outputs": [
    {
     "name": "stdout",
     "output_type": "stream",
     "text": [
      "Precision: 0.7023809523809523\n",
      "Recall: 0.959349593495935\n",
      "F1-Score: 0.8109965635738832\n",
      "Accuracy: 94.67 %\n"
     ]
    }
   ],
   "source": [
    "# Predict the test data:\n",
    "X_test_tf = cv.transform(X_test)\n",
    "y_pred_tf = grid.predict(X_test_tf)\n",
    "\n",
    "# Model Performance Evaluation:\n",
    "accuracy = accuracy_score(y_test, y_pred_tf)\n",
    "print('Precision:', precision_score(y_test, y_pred_tf))\n",
    "print('Recall:', recall_score(y_test, y_pred_tf))\n",
    "print('F1-Score:', f1_score(y_test, y_pred_tf))\n",
    "print(f\"Accuracy: {round((accuracy)*100, 2)} %\")"
   ]
  },
  {
   "cell_type": "code",
   "execution_count": 18,
   "id": "7e46cea7",
   "metadata": {},
   "outputs": [
    {
     "name": "stdout",
     "output_type": "stream",
     "text": [
      "Classification Report (TF-IDF):\n",
      "\n",
      "              precision    recall  f1-score   support\n",
      "\n",
      "    Not Spam       0.99      0.94      0.97       909\n",
      "        Spam       0.70      0.96      0.81       123\n",
      "\n",
      "    accuracy                           0.95      1032\n",
      "   macro avg       0.85      0.95      0.89      1032\n",
      "weighted avg       0.96      0.95      0.95      1032\n",
      "\n"
     ]
    }
   ],
   "source": [
    "print('Classification Report (TF-IDF):\\n')\n",
    "print(classification_report(y_test, y_pred_tf, target_names=[\"Not Spam\", \"Spam\"]))"
   ]
  },
  {
   "cell_type": "code",
   "execution_count": 19,
   "id": "24e62ae7",
   "metadata": {},
   "outputs": [
    {
     "data": {
      "image/png": "[encoded data removed]",
      "text/plain": [
       "<Figure size 800x600 with 2 Axes>"
      ]
     },
     "metadata": {},
     "output_type": "display_data"
    }
   ],
   "source": [
    "# Generate confusion matrix\n",
    "conf_matrix = confusion_matrix(y_test, y_pred_tf)\n",
    "# Plot confusion matrix\n",
    "plt.figure(figsize=(8, 6))\n",
    "sns.heatmap(conf_matrix, annot=True, fmt=\"d\", cmap=\"Blues\", xticklabels=['Not Spam', 'Spam'], yticklabels=['Not Spam', 'Spam'])\n",
    "plt.xlabel('Predicted Labels')\n",
    "plt.ylabel('True Labels')\n",
    "plt.title('Confusion Matrix (TF-IDF)')\n",
    "plt.show()"
   ]
  }
 ],
 "metadata": {
  "kernelspec": {
   "display_name": "Python 3 (ipykernel)",
   "language": "python",
   "name": "python3"
  },
  "language_info": {
   "codemirror_mode": {
    "name": "ipython",
    "version": 3
   },
   "file_extension": ".py",
   "mimetype": "text/x-python",
   "name": "python",
   "nbconvert_exporter": "python",
   "pygments_lexer": "ipython3",
   "version": "3.9.13"
  }
 },
 "nbformat": 4,
 "nbformat_minor": 5
}
