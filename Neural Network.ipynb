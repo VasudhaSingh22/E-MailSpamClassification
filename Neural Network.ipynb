{
 "cells": [
  {
   "cell_type": "markdown",
   "id": "fd42e9c4",
   "metadata": {},
   "source": [
    "# Neural Network:\n",
    "## Case I: Early Stopping:\n",
    "\n",
    "Early stopping is a technique used in training machine learning models, including neural networks, to prevent overfitting and improve generalization. \n",
    "- In the context of spam classification, a neural network learns to distinguish between spam and non-spam emails using features extracted from the email content. \n",
    "- Early stopping helps prevent the model from becoming too specialized on the training data, enhancing its generalization to new, unseen emails. \n",
    "\n",
    "By detecting when the model's performance on validation data starts declining, early stopping ensures the network stops training before overfitting occurs, leading to a more effective and accurate spam classifier."
   ]
  },
  {
   "cell_type": "markdown",
   "id": "53983829",
   "metadata": {},
   "source": [
    "### Importing Libraries & Dataset:"
   ]
  },
  {
   "cell_type": "code",
   "execution_count": 1,
   "id": "79cd9ef2",
   "metadata": {},
   "outputs": [],
   "source": [
    "import numpy as np\n",
    "import pandas as pd\n",
    "import re\n",
    "from sklearn.feature_extraction.text import TfidfVectorizer\n",
    "from sklearn.metrics import classification_report, confusion_matrix, accuracy_score\n",
    "import matplotlib.pyplot as plt\n",
    "from keras.models import Sequential\n",
    "from keras.layers import Dense, Dropout, BatchNormalization\n",
    "from keras.callbacks import EarlyStopping\n",
    "from sklearn.preprocessing import LabelEncoder\n",
    "from keras.models import load_model\n",
    "import tensorflow as tf\n",
    "import seaborn as sns\n",
    "from sklearn.model_selection import train_test_split\n",
    "import warnings\n",
    "warnings.filterwarnings('ignore')"
   ]
  },
  {
   "cell_type": "code",
   "execution_count": 2,
   "id": "2a3eb5ca",
   "metadata": {},
   "outputs": [
    {
     "data": {
      "text/html": [
       "<div>\n",
       "<style scoped>\n",
       "    .dataframe tbody tr th:only-of-type {\n",
       "        vertical-align: middle;\n",
       "    }\n",
       "\n",
       "    .dataframe tbody tr th {\n",
       "        vertical-align: top;\n",
       "    }\n",
       "\n",
       "    .dataframe thead th {\n",
       "        text-align: right;\n",
       "    }\n",
       "</style>\n",
       "<table border=\"1\" class=\"dataframe\">\n",
       "  <thead>\n",
       "    <tr style=\"text-align: right;\">\n",
       "      <th></th>\n",
       "      <th>Category</th>\n",
       "      <th>Message</th>\n",
       "    </tr>\n",
       "  </thead>\n",
       "  <tbody>\n",
       "    <tr>\n",
       "      <th>0</th>\n",
       "      <td>ham</td>\n",
       "      <td>Go until jurong point, crazy.. Available only ...</td>\n",
       "    </tr>\n",
       "    <tr>\n",
       "      <th>1</th>\n",
       "      <td>ham</td>\n",
       "      <td>Ok lar... Joking wif u oni...</td>\n",
       "    </tr>\n",
       "    <tr>\n",
       "      <th>2</th>\n",
       "      <td>spam</td>\n",
       "      <td>Free entry in 2 a wkly comp to win FA Cup fina...</td>\n",
       "    </tr>\n",
       "    <tr>\n",
       "      <th>3</th>\n",
       "      <td>ham</td>\n",
       "      <td>U dun say so early hor... U c already then say...</td>\n",
       "    </tr>\n",
       "    <tr>\n",
       "      <th>4</th>\n",
       "      <td>ham</td>\n",
       "      <td>Nah I don't think he goes to usf, he lives aro...</td>\n",
       "    </tr>\n",
       "  </tbody>\n",
       "</table>\n",
       "</div>"
      ],
      "text/plain": [
       "  Category                                            Message\n",
       "0      ham  Go until jurong point, crazy.. Available only ...\n",
       "1      ham                      Ok lar... Joking wif u oni...\n",
       "2     spam  Free entry in 2 a wkly comp to win FA Cup fina...\n",
       "3      ham  U dun say so early hor... U c already then say...\n",
       "4      ham  Nah I don't think he goes to usf, he lives aro..."
      ]
     },
     "execution_count": 2,
     "metadata": {},
     "output_type": "execute_result"
    }
   ],
   "source": [
    "df = pd.read_csv('spam.csv')\n",
    "df.head()"
   ]
  },
  {
   "cell_type": "code",
   "execution_count": 3,
   "id": "f5ffa437",
   "metadata": {},
   "outputs": [
    {
     "data": {
      "text/plain": [
       "(5572, 2)"
      ]
     },
     "execution_count": 3,
     "metadata": {},
     "output_type": "execute_result"
    }
   ],
   "source": [
    "df.shape"
   ]
  },
  {
   "cell_type": "code",
   "execution_count": 4,
   "id": "14933346",
   "metadata": {},
   "outputs": [
    {
     "data": {
      "text/plain": [
       "415"
      ]
     },
     "execution_count": 4,
     "metadata": {},
     "output_type": "execute_result"
    }
   ],
   "source": [
    "# Duplicates Check:\n",
    "df.duplicated().sum()"
   ]
  },
  {
   "cell_type": "code",
   "execution_count": 5,
   "id": "b96d955f",
   "metadata": {},
   "outputs": [
    {
     "data": {
      "text/plain": [
       "(5157, 2)"
      ]
     },
     "execution_count": 5,
     "metadata": {},
     "output_type": "execute_result"
    }
   ],
   "source": [
    "# Drop the duplicates:\n",
    "df.drop_duplicates(inplace = True)\n",
    "df.shape"
   ]
  },
  {
   "cell_type": "code",
   "execution_count": 6,
   "id": "831feae5",
   "metadata": {},
   "outputs": [
    {
     "data": {
      "text/plain": [
       "Category    0\n",
       "Message     0\n",
       "dtype: int64"
      ]
     },
     "execution_count": 6,
     "metadata": {},
     "output_type": "execute_result"
    }
   ],
   "source": [
    "# Check for Null entries:\n",
    "df.isnull().sum()"
   ]
  },
  {
   "cell_type": "markdown",
   "id": "c8539eb8",
   "metadata": {},
   "source": [
    "### Data Preprocessing:"
   ]
  },
  {
   "cell_type": "code",
   "execution_count": 7,
   "id": "073fa849",
   "metadata": {},
   "outputs": [
    {
     "data": {
      "text/html": [
       "<div>\n",
       "<style scoped>\n",
       "    .dataframe tbody tr th:only-of-type {\n",
       "        vertical-align: middle;\n",
       "    }\n",
       "\n",
       "    .dataframe tbody tr th {\n",
       "        vertical-align: top;\n",
       "    }\n",
       "\n",
       "    .dataframe thead th {\n",
       "        text-align: right;\n",
       "    }\n",
       "</style>\n",
       "<table border=\"1\" class=\"dataframe\">\n",
       "  <thead>\n",
       "    <tr style=\"text-align: right;\">\n",
       "      <th></th>\n",
       "      <th>Category</th>\n",
       "      <th>Message</th>\n",
       "      <th>Words</th>\n",
       "    </tr>\n",
       "  </thead>\n",
       "  <tbody>\n",
       "    <tr>\n",
       "      <th>0</th>\n",
       "      <td>ham</td>\n",
       "      <td>Go until jurong point, crazy.. Available only ...</td>\n",
       "      <td>go until jurong point crazy available only in ...</td>\n",
       "    </tr>\n",
       "    <tr>\n",
       "      <th>1</th>\n",
       "      <td>ham</td>\n",
       "      <td>Ok lar... Joking wif u oni...</td>\n",
       "      <td>ok lar joking wif u oni</td>\n",
       "    </tr>\n",
       "    <tr>\n",
       "      <th>2</th>\n",
       "      <td>spam</td>\n",
       "      <td>Free entry in 2 a wkly comp to win FA Cup fina...</td>\n",
       "      <td>free entry in 2 a wkly comp to win fa cup fina...</td>\n",
       "    </tr>\n",
       "    <tr>\n",
       "      <th>3</th>\n",
       "      <td>ham</td>\n",
       "      <td>U dun say so early hor... U c already then say...</td>\n",
       "      <td>u dun say so early hor u c already then say</td>\n",
       "    </tr>\n",
       "    <tr>\n",
       "      <th>4</th>\n",
       "      <td>ham</td>\n",
       "      <td>Nah I don't think he goes to usf, he lives aro...</td>\n",
       "      <td>nah i dont think he goes to usf he lives aroun...</td>\n",
       "    </tr>\n",
       "  </tbody>\n",
       "</table>\n",
       "</div>"
      ],
      "text/plain": [
       "  Category                                            Message  \\\n",
       "0      ham  Go until jurong point, crazy.. Available only ...   \n",
       "1      ham                      Ok lar... Joking wif u oni...   \n",
       "2     spam  Free entry in 2 a wkly comp to win FA Cup fina...   \n",
       "3      ham  U dun say so early hor... U c already then say...   \n",
       "4      ham  Nah I don't think he goes to usf, he lives aro...   \n",
       "\n",
       "                                               Words  \n",
       "0  go until jurong point crazy available only in ...  \n",
       "1                            ok lar joking wif u oni  \n",
       "2  free entry in 2 a wkly comp to win fa cup fina...  \n",
       "3        u dun say so early hor u c already then say  \n",
       "4  nah i dont think he goes to usf he lives aroun...  "
      ]
     },
     "execution_count": 7,
     "metadata": {},
     "output_type": "execute_result"
    }
   ],
   "source": [
    "# Column that only has words & space.\n",
    "words = []\n",
    "for i in df['Message']:\n",
    "    i = i.lower()\n",
    "    i = re.sub(\"[^a-z0-9 ]\", '', i)\n",
    "# Removing everything except space & a-z.\n",
    "    words.append(i)\n",
    "\n",
    "df['Words'] = words\n",
    "df.head()"
   ]
  },
  {
   "cell_type": "code",
   "execution_count": 8,
   "id": "4cbf2057",
   "metadata": {},
   "outputs": [
    {
     "data": {
      "text/html": [
       "<div>\n",
       "<style scoped>\n",
       "    .dataframe tbody tr th:only-of-type {\n",
       "        vertical-align: middle;\n",
       "    }\n",
       "\n",
       "    .dataframe tbody tr th {\n",
       "        vertical-align: top;\n",
       "    }\n",
       "\n",
       "    .dataframe thead th {\n",
       "        text-align: right;\n",
       "    }\n",
       "</style>\n",
       "<table border=\"1\" class=\"dataframe\">\n",
       "  <thead>\n",
       "    <tr style=\"text-align: right;\">\n",
       "      <th></th>\n",
       "      <th>Category</th>\n",
       "      <th>Message</th>\n",
       "      <th>Words</th>\n",
       "    </tr>\n",
       "  </thead>\n",
       "  <tbody>\n",
       "    <tr>\n",
       "      <th>0</th>\n",
       "      <td>0</td>\n",
       "      <td>Go until jurong point, crazy.. Available only ...</td>\n",
       "      <td>go until jurong point crazy available only in ...</td>\n",
       "    </tr>\n",
       "    <tr>\n",
       "      <th>1</th>\n",
       "      <td>0</td>\n",
       "      <td>Ok lar... Joking wif u oni...</td>\n",
       "      <td>ok lar joking wif u oni</td>\n",
       "    </tr>\n",
       "    <tr>\n",
       "      <th>2</th>\n",
       "      <td>1</td>\n",
       "      <td>Free entry in 2 a wkly comp to win FA Cup fina...</td>\n",
       "      <td>free entry in 2 a wkly comp to win fa cup fina...</td>\n",
       "    </tr>\n",
       "    <tr>\n",
       "      <th>3</th>\n",
       "      <td>0</td>\n",
       "      <td>U dun say so early hor... U c already then say...</td>\n",
       "      <td>u dun say so early hor u c already then say</td>\n",
       "    </tr>\n",
       "    <tr>\n",
       "      <th>4</th>\n",
       "      <td>0</td>\n",
       "      <td>Nah I don't think he goes to usf, he lives aro...</td>\n",
       "      <td>nah i dont think he goes to usf he lives aroun...</td>\n",
       "    </tr>\n",
       "  </tbody>\n",
       "</table>\n",
       "</div>"
      ],
      "text/plain": [
       "   Category                                            Message  \\\n",
       "0         0  Go until jurong point, crazy.. Available only ...   \n",
       "1         0                      Ok lar... Joking wif u oni...   \n",
       "2         1  Free entry in 2 a wkly comp to win FA Cup fina...   \n",
       "3         0  U dun say so early hor... U c already then say...   \n",
       "4         0  Nah I don't think he goes to usf, he lives aro...   \n",
       "\n",
       "                                               Words  \n",
       "0  go until jurong point crazy available only in ...  \n",
       "1                            ok lar joking wif u oni  \n",
       "2  free entry in 2 a wkly comp to win fa cup fina...  \n",
       "3        u dun say so early hor u c already then say  \n",
       "4  nah i dont think he goes to usf he lives aroun...  "
      ]
     },
     "execution_count": 8,
     "metadata": {},
     "output_type": "execute_result"
    }
   ],
   "source": [
    "le = LabelEncoder()\n",
    "df['Category'] = le.fit_transform(df['Category'])\n",
    "df.head()"
   ]
  },
  {
   "cell_type": "markdown",
   "id": "e60046b4",
   "metadata": {},
   "source": [
    "### Model Training:"
   ]
  },
  {
   "cell_type": "code",
   "execution_count": 9,
   "id": "a59ec3cc",
   "metadata": {},
   "outputs": [
    {
     "name": "stdout",
     "output_type": "stream",
     "text": [
      "(3867, 9539)\n",
      "(1290, 9539)\n"
     ]
    }
   ],
   "source": [
    "tvf = TfidfVectorizer()\n",
    "X = tvf.fit_transform(df['Words']).toarray() # Convert to NumPy Array\n",
    "y = df['Category']\n",
    "X_train, X_test, y_train, y_test = train_test_split(X, y, test_size = 0.25, random_state = 42)\n",
    "print(X_train.shape)\n",
    "print(X_test.shape)"
   ]
  },
  {
   "cell_type": "markdown",
   "id": "c0e2843b",
   "metadata": {},
   "source": [
    "**Batch Normalization** is a neural network optimization technique that normalizes intermediate outputs within mini-batches during training. It reduces internal covariate shifts, making optimization more stable and accelerating convergence. "
   ]
  },
  {
   "cell_type": "code",
   "execution_count": 10,
   "id": "62337741",
   "metadata": {},
   "outputs": [
    {
     "name": "stdout",
     "output_type": "stream",
     "text": [
      "Model: \"sequential\"\n",
      "_________________________________________________________________\n",
      " Layer (type)                Output Shape              Param #   \n",
      "=================================================================\n",
      " dense (Dense)               (None, 128)               1221120   \n",
      "                                                                 \n",
      " dropout (Dropout)           (None, 128)               0         \n",
      "                                                                 \n",
      " batch_normalization (BatchN  (None, 128)              512       \n",
      " ormalization)                                                   \n",
      "                                                                 \n",
      " dense_1 (Dense)             (None, 64)                8256      \n",
      "                                                                 \n",
      " dropout_1 (Dropout)         (None, 64)                0         \n",
      "                                                                 \n",
      " batch_normalization_1 (Batc  (None, 64)               256       \n",
      " hNormalization)                                                 \n",
      "                                                                 \n",
      " dense_2 (Dense)             (None, 32)                2080      \n",
      "                                                                 \n",
      " dropout_2 (Dropout)         (None, 32)                0         \n",
      "                                                                 \n",
      " batch_normalization_2 (Batc  (None, 32)               128       \n",
      " hNormalization)                                                 \n",
      "                                                                 \n",
      " dense_3 (Dense)             (None, 1)                 33        \n",
      "                                                                 \n",
      "=================================================================\n",
      "Total params: 1,232,385\n",
      "Trainable params: 1,231,937\n",
      "Non-trainable params: 448\n",
      "_________________________________________________________________\n"
     ]
    }
   ],
   "source": [
    "nn = Sequential()\n",
    "\n",
    "# 1st Hidden Layer:\n",
    "nn.add(Dense(128, input_dim = X_train.shape[1], activation = 'relu'))\n",
    "nn.add(Dropout(0.3))\n",
    "nn.add(BatchNormalization())\n",
    "\n",
    "# 2nd Hidden Layer:\n",
    "nn.add(Dense(64, activation = 'relu'))\n",
    "nn.add(Dropout(0.3))\n",
    "nn.add(BatchNormalization())\n",
    "\n",
    "# 3rd Hidden Layer:\n",
    "nn.add(Dense(32, activation = 'relu'))\n",
    "nn.add(Dropout(0.3))\n",
    "nn.add(BatchNormalization())\n",
    "\n",
    "# Output Layer:\n",
    "nn.add(Dense(1, activation = 'sigmoid'))\n",
    "\n",
    "nn.summary()"
   ]
  },
  {
   "cell_type": "code",
   "execution_count": 11,
   "id": "38f8cc33",
   "metadata": {},
   "outputs": [
    {
     "name": "stdout",
     "output_type": "stream",
     "text": [
      "Epoch 1/200\n",
      "310/310 [==============================] - 7s 16ms/step - loss: 0.4999 - accuracy: 0.7582 - val_loss: 0.3012 - val_accuracy: 0.8811\n",
      "Epoch 2/200\n",
      "310/310 [==============================] - 5s 15ms/step - loss: 0.2237 - accuracy: 0.9185 - val_loss: 0.1448 - val_accuracy: 0.9548\n",
      "Epoch 3/200\n",
      "310/310 [==============================] - 5s 15ms/step - loss: 0.1432 - accuracy: 0.9492 - val_loss: 0.1257 - val_accuracy: 0.9612\n",
      "Epoch 4/200\n",
      "310/310 [==============================] - 4s 14ms/step - loss: 0.1098 - accuracy: 0.9589 - val_loss: 0.1525 - val_accuracy: 0.9612\n",
      "Epoch 5/200\n",
      "310/310 [==============================] - 4s 14ms/step - loss: 0.0887 - accuracy: 0.9693 - val_loss: 0.1718 - val_accuracy: 0.9599\n",
      "Epoch 6/200\n",
      "310/310 [==============================] - 5s 16ms/step - loss: 0.0697 - accuracy: 0.9751 - val_loss: 0.1772 - val_accuracy: 0.9625\n",
      "Epoch 7/200\n",
      "310/310 [==============================] - 5s 17ms/step - loss: 0.0631 - accuracy: 0.9790 - val_loss: 0.1938 - val_accuracy: 0.9599\n",
      "Epoch 8/200\n",
      "310/310 [==============================] - 5s 16ms/step - loss: 0.0504 - accuracy: 0.9845 - val_loss: 0.2171 - val_accuracy: 0.9599\n"
     ]
    }
   ],
   "source": [
    "early_stop = EarlyStopping(monitor = 'val_loss', patience = 5)\n",
    "nn.compile(loss = 'binary_crossentropy', optimizer = 'adam', metrics = ['accuracy'])\n",
    "hist = nn.fit(X_train, y_train, callbacks = early_stop, epochs = 200, validation_split = 0.2, batch_size = 10)"
   ]
  },
  {
   "cell_type": "code",
   "execution_count": 12,
   "id": "26575cad",
   "metadata": {},
   "outputs": [
    {
     "name": "stdout",
     "output_type": "stream",
     "text": [
      "121/121 [==============================] - 0s 3ms/step - loss: 0.0453 - accuracy: 0.9917\n"
     ]
    },
    {
     "data": {
      "text/plain": [
       "[0.04534314200282097, 0.9917248487472534]"
      ]
     },
     "execution_count": 12,
     "metadata": {},
     "output_type": "execute_result"
    }
   ],
   "source": [
    "nn.evaluate(X_train, y_train)"
   ]
  },
  {
   "cell_type": "code",
   "execution_count": 13,
   "id": "1e406276",
   "metadata": {},
   "outputs": [
    {
     "name": "stdout",
     "output_type": "stream",
     "text": [
      "41/41 [==============================] - 0s 3ms/step - loss: 0.1206 - accuracy: 0.9674\n"
     ]
    },
    {
     "data": {
      "text/plain": [
       "[0.12056871503591537, 0.9674418568611145]"
      ]
     },
     "execution_count": 13,
     "metadata": {},
     "output_type": "execute_result"
    }
   ],
   "source": [
    "nn.evaluate(X_test, y_test)"
   ]
  },
  {
   "cell_type": "code",
   "execution_count": 14,
   "id": "d9682715",
   "metadata": {},
   "outputs": [
    {
     "name": "stdout",
     "output_type": "stream",
     "text": [
      "41/41 [==============================] - 0s 3ms/step\n"
     ]
    },
    {
     "data": {
      "text/plain": [
       "array([[4.8628855e-05],\n",
       "       [5.5789847e-02],\n",
       "       [3.5297277e-04],\n",
       "       ...,\n",
       "       [4.5040772e-05],\n",
       "       [1.8075056e-04],\n",
       "       [7.3405885e-05]], dtype=float32)"
      ]
     },
     "execution_count": 14,
     "metadata": {},
     "output_type": "execute_result"
    }
   ],
   "source": [
    "# Prediction:\n",
    "y_pred_prob = nn.predict(X_test)\n",
    "y_pred_prob"
   ]
  },
  {
   "cell_type": "code",
   "execution_count": 15,
   "id": "19c6ea54",
   "metadata": {},
   "outputs": [
    {
     "data": {
      "text/plain": [
       "[0, 0, 0, 0, 0, 1]"
      ]
     },
     "execution_count": 15,
     "metadata": {},
     "output_type": "execute_result"
    }
   ],
   "source": [
    "# Convert prediction to 0 & 1 label:\n",
    "y_pred = []\n",
    "for i in y_pred_prob:\n",
    "    if i >= 0.5:\n",
    "        y_pred.append(1)\n",
    "    else:\n",
    "        y_pred.append(0)\n",
    "y_pred[:6]"
   ]
  },
  {
   "cell_type": "code",
   "execution_count": 16,
   "id": "cf82a133",
   "metadata": {},
   "outputs": [
    {
     "name": "stdout",
     "output_type": "stream",
     "text": [
      "Accuracy:  96.74 %\n"
     ]
    }
   ],
   "source": [
    "# Accuracy:\n",
    "print('Accuracy: ', round(accuracy_score(y_pred, y_test)*100, 2), '%')"
   ]
  },
  {
   "cell_type": "code",
   "execution_count": 17,
   "id": "c62bd854",
   "metadata": {},
   "outputs": [
    {
     "name": "stdout",
     "output_type": "stream",
     "text": [
      "Classification Report:\n",
      "\n",
      "              precision    recall  f1-score   support\n",
      "\n",
      "           0       0.96      1.00      0.98      1124\n",
      "           1       0.99      0.75      0.86       166\n",
      "\n",
      "    accuracy                           0.97      1290\n",
      "   macro avg       0.98      0.88      0.92      1290\n",
      "weighted avg       0.97      0.97      0.97      1290\n",
      "\n"
     ]
    }
   ],
   "source": [
    "# Classification Report:\n",
    "print('Classification Report:\\n')\n",
    "print(classification_report(y_test,y_pred))"
   ]
  },
  {
   "cell_type": "code",
   "execution_count": 18,
   "id": "5badeb6b",
   "metadata": {
    "scrolled": false
   },
   "outputs": [
    {
     "data": {
      "image/png": "[encoded data removed]",
      "text/plain": [
       "<Figure size 800x600 with 2 Axes>"
      ]
     },
     "metadata": {},
     "output_type": "display_data"
    }
   ],
   "source": [
    "# Confusion Matrix:\n",
    "cm = confusion_matrix(y_test, y_pred)\n",
    "plt.figure(figsize=(8, 6))\n",
    "sns.heatmap(cm, annot=True, fmt=\"d\", cmap=\"Blues\", cbar=True)\n",
    "plt.xlabel(\"Predicted Labels\")\n",
    "plt.ylabel(\"True Labels\")\n",
    "plt.title(\"Confusion Matrix\")\n",
    "plt.show()"
   ]
  },
  {
   "cell_type": "code",
   "execution_count": 19,
   "id": "8697e31d",
   "metadata": {},
   "outputs": [],
   "source": [
    "# Saving the Model:\n",
    "nn.save('E-Mail_Detection.h5')"
   ]
  },
  {
   "cell_type": "markdown",
   "id": "9db32c7f",
   "metadata": {},
   "source": [
    "### Real World Examples:"
   ]
  },
  {
   "cell_type": "code",
   "execution_count": 20,
   "id": "f72b7151",
   "metadata": {},
   "outputs": [],
   "source": [
    "def detect(model,string):\n",
    "    string = string.lower()\n",
    "    string = re.sub(\"[^a-z ]\",\"\",string)\n",
    "    x = tvf.transform([string]).toarray()\n",
    "    y = model.predict(x)\n",
    "    print(y)\n",
    "    if y >= 0.5:\n",
    "        print(\"This is a Spam Mail.\")\n",
    "    else:\n",
    "        print(\"This is a Real Mail.\")\n",
    "        \n",
    "email_model = load_model(\"E-Mail_Detection.h5\")  "
   ]
  },
  {
   "cell_type": "code",
   "execution_count": 21,
   "id": "b59f84d8",
   "metadata": {},
   "outputs": [
    {
     "name": "stdout",
     "output_type": "stream",
     "text": [
      "1/1 [==============================] - 0s 145ms/step\n",
      "[[0.99061674]]\n",
      "This is a Spam Mail.\n"
     ]
    }
   ],
   "source": [
    "message = \"How to win cash price!! click on below link and redeem it.\"\n",
    "detect(email_model, message)"
   ]
  },
  {
   "cell_type": "code",
   "execution_count": 22,
   "id": "ab9f4340",
   "metadata": {},
   "outputs": [
    {
     "name": "stdout",
     "output_type": "stream",
     "text": [
      "1/1 [==============================] - 0s 28ms/step\n",
      "[[0.8527088]]\n",
      "This is a Spam Mail.\n"
     ]
    }
   ],
   "source": [
    "message = 'Congratulations!!!! You won a prize of $10000.'\n",
    "detect(email_model, message)"
   ]
  },
  {
   "cell_type": "code",
   "execution_count": 23,
   "id": "055ecdc0",
   "metadata": {},
   "outputs": [
    {
     "name": "stdout",
     "output_type": "stream",
     "text": [
      "1/1 [==============================] - 0s 36ms/step\n",
      "[[4.1047464e-05]]\n",
      "This is a Real Mail.\n"
     ]
    }
   ],
   "source": [
    "message = \"I need the last month reports.\"\n",
    "detect(email_model, message)"
   ]
  },
  {
   "cell_type": "markdown",
   "id": "a78665d0",
   "metadata": {},
   "source": [
    "## Case II: Using TensorFlow:"
   ]
  },
  {
   "cell_type": "code",
   "execution_count": 24,
   "id": "6a1d0447",
   "metadata": {},
   "outputs": [
    {
     "data": {
      "text/html": [
       "<div>\n",
       "<style scoped>\n",
       "    .dataframe tbody tr th:only-of-type {\n",
       "        vertical-align: middle;\n",
       "    }\n",
       "\n",
       "    .dataframe tbody tr th {\n",
       "        vertical-align: top;\n",
       "    }\n",
       "\n",
       "    .dataframe thead th {\n",
       "        text-align: right;\n",
       "    }\n",
       "</style>\n",
       "<table border=\"1\" class=\"dataframe\">\n",
       "  <thead>\n",
       "    <tr style=\"text-align: right;\">\n",
       "      <th></th>\n",
       "      <th>Category</th>\n",
       "      <th>Message</th>\n",
       "    </tr>\n",
       "  </thead>\n",
       "  <tbody>\n",
       "    <tr>\n",
       "      <th>0</th>\n",
       "      <td>ham</td>\n",
       "      <td>Go until jurong point, crazy.. Available only ...</td>\n",
       "    </tr>\n",
       "    <tr>\n",
       "      <th>1</th>\n",
       "      <td>ham</td>\n",
       "      <td>Ok lar... Joking wif u oni...</td>\n",
       "    </tr>\n",
       "    <tr>\n",
       "      <th>2</th>\n",
       "      <td>spam</td>\n",
       "      <td>Free entry in 2 a wkly comp to win FA Cup fina...</td>\n",
       "    </tr>\n",
       "    <tr>\n",
       "      <th>3</th>\n",
       "      <td>ham</td>\n",
       "      <td>U dun say so early hor... U c already then say...</td>\n",
       "    </tr>\n",
       "    <tr>\n",
       "      <th>4</th>\n",
       "      <td>ham</td>\n",
       "      <td>Nah I don't think he goes to usf, he lives aro...</td>\n",
       "    </tr>\n",
       "  </tbody>\n",
       "</table>\n",
       "</div>"
      ],
      "text/plain": [
       "  Category                                            Message\n",
       "0      ham  Go until jurong point, crazy.. Available only ...\n",
       "1      ham                      Ok lar... Joking wif u oni...\n",
       "2     spam  Free entry in 2 a wkly comp to win FA Cup fina...\n",
       "3      ham  U dun say so early hor... U c already then say...\n",
       "4      ham  Nah I don't think he goes to usf, he lives aro..."
      ]
     },
     "execution_count": 24,
     "metadata": {},
     "output_type": "execute_result"
    }
   ],
   "source": [
    "df = pd.read_csv('spam.csv')\n",
    "df.head()"
   ]
  },
  {
   "cell_type": "markdown",
   "id": "ffb45112",
   "metadata": {},
   "source": [
    "### Data Preprocessing:"
   ]
  },
  {
   "cell_type": "code",
   "execution_count": 25,
   "id": "05297d6e",
   "metadata": {},
   "outputs": [],
   "source": [
    "def get_seq(texts, tokenizer, train = True, max_seq_length = None):\n",
    "    seq = tokenizer.texts_to_sequences(texts)\n",
    "    if train == True:\n",
    "        max_seq_length = np.max(list(map(len, seq)))\n",
    "    seq = tf.keras.preprocessing.sequence.pad_sequences(seq, maxlen = max_seq_length, padding = 'post')\n",
    "    return seq\n",
    "\n",
    "# Takes a list of input texts, converts them into sequences of token IDs \n",
    "# using a provided tokenizer, optionally calculates the maximum sequence \n",
    "# length, pads the sequences to a uniform length, and returns the padded \n",
    "# sequences. "
   ]
  },
  {
   "cell_type": "code",
   "execution_count": 26,
   "id": "93ccce39",
   "metadata": {},
   "outputs": [],
   "source": [
    "def preprocessing(df):\n",
    "    df = df.copy()\n",
    "    df['Category'] = df['Category'].replace({\"ham\" : 0, \"spam\" : 1})\n",
    "    X = df['Message']\n",
    "    Y = df['Category']\n",
    "    X_train, X_test, y_train, y_test = train_test_split(X, Y, test_size = 0.30, shuffle = True, random_state = 1)\n",
    "    tokenizer = tf.keras.preprocessing.text.Tokenizer()\n",
    "    tokenizer.fit_on_texts(X_train)\n",
    "    print('Vocab Length:' , len(tokenizer.word_index) + 1)\n",
    "    X_train = get_seq(texts = X_train, tokenizer = tokenizer, train = True)\n",
    "    X_test = get_seq(texts = X_test, tokenizer = tokenizer, train = False, max_seq_length = X_train.shape[1])\n",
    "    print('Sequence Length:', X_train.shape[1])\n",
    "    return X_train, X_test, y_train, y_test"
   ]
  },
  {
   "cell_type": "markdown",
   "id": "1bc5d68d",
   "metadata": {},
   "source": [
    "### Data Modeling:"
   ]
  },
  {
   "cell_type": "code",
   "execution_count": 27,
   "id": "646e8b77",
   "metadata": {},
   "outputs": [
    {
     "name": "stdout",
     "output_type": "stream",
     "text": [
      "Vocab Length: 7383\n",
      "Sequence Length: 189\n"
     ]
    },
    {
     "data": {
      "text/plain": [
       "array([[  53,   21,   13, ...,    0,    0,    0],\n",
       "       [ 918,    5, 1123, ...,    0,    0,    0],\n",
       "       [1124,   58,   42, ...,    0,    0,    0],\n",
       "       ...,\n",
       "       [7377,    6, 7378, ...,    0,    0,    0],\n",
       "       [  68,  167,  222, ...,    0,    0,    0],\n",
       "       [ 104,  104,  206, ...,    0,    0,    0]])"
      ]
     },
     "execution_count": 27,
     "metadata": {},
     "output_type": "execute_result"
    }
   ],
   "source": [
    "X_train, X_test, y_train, y_test = preprocessing(df)\n",
    "X_train"
   ]
  },
  {
   "cell_type": "code",
   "execution_count": 28,
   "id": "bb418e1a",
   "metadata": {},
   "outputs": [
    {
     "name": "stdout",
     "output_type": "stream",
     "text": [
      "Model: \"model\"\n",
      "_________________________________________________________________\n",
      " Layer (type)                Output Shape              Param #   \n",
      "=================================================================\n",
      " input_1 (InputLayer)        [(None, 189)]             0         \n",
      "                                                                 \n",
      " embedding (Embedding)       (None, 189, 250)          1845750   \n",
      "                                                                 \n",
      " flatten (Flatten)           (None, 47250)             0         \n",
      "                                                                 \n",
      " dense_4 (Dense)             (None, 128)               6048128   \n",
      "                                                                 \n",
      " dense_5 (Dense)             (None, 128)               16512     \n",
      "                                                                 \n",
      " dense_6 (Dense)             (None, 1)                 129       \n",
      "                                                                 \n",
      "=================================================================\n",
      "Total params: 7,910,519\n",
      "Trainable params: 7,910,519\n",
      "Non-trainable params: 0\n",
      "_________________________________________________________________\n"
     ]
    }
   ],
   "source": [
    "inputs = tf.keras.Input(shape = (189, ))\n",
    "x = tf.keras.layers.Embedding(input_dim = 7383, output_dim = 250)(inputs)\n",
    "x = tf.keras.layers.Flatten()(x)\n",
    "x = tf.keras.layers.Dense(128, activation = 'relu')(x)\n",
    "x = tf.keras.layers.Dense(128, activation = 'relu')(x)\n",
    "outputs = tf.keras.layers.Dense(1, activation = 'sigmoid')(x)\n",
    "model = tf.keras.Model(inputs = inputs, outputs = outputs)\n",
    "model.compile(optimizer = 'adam',\n",
    "    loss = 'binary_crossentropy',\n",
    "    metrics = [\"accuracy\", tf.keras.metrics.AUC(name = 'auc')])\n",
    "\n",
    "model.summary()"
   ]
  },
  {
   "cell_type": "code",
   "execution_count": 29,
   "id": "6650e254",
   "metadata": {},
   "outputs": [
    {
     "name": "stdout",
     "output_type": "stream",
     "text": [
      "Epoch 1/100\n",
      "98/98 [==============================] - 10s 86ms/step - loss: 0.1789 - accuracy: 0.9301 - auc: 0.9360 - val_loss: 0.0746 - val_accuracy: 0.9795 - val_auc: 0.9847\n",
      "Epoch 2/100\n",
      "98/98 [==============================] - 8s 83ms/step - loss: 0.0233 - accuracy: 0.9933 - auc: 0.9974 - val_loss: 0.0696 - val_accuracy: 0.9808 - val_auc: 0.9806\n",
      "Epoch 3/100\n",
      "98/98 [==============================] - 8s 84ms/step - loss: 0.0035 - accuracy: 0.9994 - auc: 1.0000 - val_loss: 0.0875 - val_accuracy: 0.9808 - val_auc: 0.9753\n",
      "Epoch 4/100\n",
      "98/98 [==============================] - 8s 84ms/step - loss: 0.0022 - accuracy: 0.9997 - auc: 1.0000 - val_loss: 0.0983 - val_accuracy: 0.9782 - val_auc: 0.9714\n",
      "Epoch 5/100\n",
      "98/98 [==============================] - 8s 78ms/step - loss: 0.0012 - accuracy: 0.9997 - auc: 1.0000 - val_loss: 0.0965 - val_accuracy: 0.9808 - val_auc: 0.9714\n",
      "Epoch 6/100\n",
      "98/98 [==============================] - 8s 79ms/step - loss: 2.3265e-04 - accuracy: 1.0000 - auc: 1.0000 - val_loss: 0.0917 - val_accuracy: 0.9833 - val_auc: 0.9756\n",
      "Epoch 7/100\n",
      "98/98 [==============================] - 8s 79ms/step - loss: 6.5109e-05 - accuracy: 1.0000 - auc: 1.0000 - val_loss: 0.0899 - val_accuracy: 0.9846 - val_auc: 0.9755\n",
      "Epoch 8/100\n",
      "98/98 [==============================] - 8s 82ms/step - loss: 4.1578e-05 - accuracy: 1.0000 - auc: 1.0000 - val_loss: 0.0963 - val_accuracy: 0.9833 - val_auc: 0.9713\n"
     ]
    }
   ],
   "source": [
    "history = model.fit(X_train, y_train,\n",
    "    validation_split = 0.2,\n",
    "    batch_size = 32,\n",
    "    epochs = 100,\n",
    "    callbacks = [\n",
    "        tf.keras.callbacks.EarlyStopping(\n",
    "        monitor = 'val_loss',\n",
    "        patience = 6,\n",
    "        restore_best_weights = True)])"
   ]
  },
  {
   "cell_type": "code",
   "execution_count": 30,
   "id": "54e96626",
   "metadata": {},
   "outputs": [
    {
     "name": "stdout",
     "output_type": "stream",
     "text": [
      "Accuracy: 98.6842 %\n",
      "AUC: 0.991\n"
     ]
    }
   ],
   "source": [
    "results = model.evaluate(X_test, y_test, verbose = 0)\n",
    "print(f'Accuracy: {round(results[1]*100, 4)} %')\n",
    "print(f'AUC: {round(results[2],3)}')"
   ]
  },
  {
   "cell_type": "code",
   "execution_count": 31,
   "id": "87b210de",
   "metadata": {},
   "outputs": [
    {
     "name": "stdout",
     "output_type": "stream",
     "text": [
      "53/53 [==============================] - 1s 8ms/step\n"
     ]
    },
    {
     "data": {
      "image/png": "[encoded data removed]",
      "text/plain": [
       "<Figure size 600x600 with 1 Axes>"
      ]
     },
     "metadata": {},
     "output_type": "display_data"
    }
   ],
   "source": [
    "y_pred = np.squeeze(model.predict(X_test) >= 0.5).astype(np.int)\n",
    "cm = confusion_matrix(y_test, y_pred,labels = [0,1])\n",
    "clr = classification_report(y_test, y_pred, labels = [0,1], target_names = ['Ham', \"Spam\"])\n",
    "plt.figure(figsize = (6,6))\n",
    "sns.heatmap(cm, annot = True, fmt = 'g', cbar = False)\n",
    "plt.xticks(ticks = [0.5, 1.5], labels = ['Ham', \"Spam\"])\n",
    "plt.yticks(ticks = [0.5, 1.5], labels = ['Ham', \"Spam\"])\n",
    "plt.xlabel('Predicted')\n",
    "plt.ylabel('Actual')\n",
    "plt.show()"
   ]
  },
  {
   "cell_type": "code",
   "execution_count": 32,
   "id": "c10fa2c3",
   "metadata": {},
   "outputs": [
    {
     "name": "stdout",
     "output_type": "stream",
     "text": [
      "Classification Report:\n",
      "\n",
      "              precision    recall  f1-score   support\n",
      "\n",
      "         Ham       0.99      1.00      0.99      1442\n",
      "        Spam       0.97      0.93      0.95       230\n",
      "\n",
      "    accuracy                           0.99      1672\n",
      "   macro avg       0.98      0.96      0.97      1672\n",
      "weighted avg       0.99      0.99      0.99      1672\n",
      "\n"
     ]
    }
   ],
   "source": [
    "print(f'Classification Report:\\n\\n{clr}')"
   ]
  }
 ],
 "metadata": {
  "kernelspec": {
   "display_name": "Python 3 (ipykernel)",
   "language": "python",
   "name": "python3"
  },
  "language_info": {
   "codemirror_mode": {
    "name": "ipython",
    "version": 3
   },
   "file_extension": ".py",
   "mimetype": "text/x-python",
   "name": "python",
   "nbconvert_exporter": "python",
   "pygments_lexer": "ipython3",
   "version": "3.9.13"
  }
 },
 "nbformat": 4,
 "nbformat_minor": 5
}
